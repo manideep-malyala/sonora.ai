{
  "nbformat": 4,
  "nbformat_minor": 0,
  "metadata": {
    "colab": {
      "provenance": [],
      "gpuType": "V28"
    },
    "kernelspec": {
      "name": "python3",
      "display_name": "Python 3"
    },
    "language_info": {
      "name": "python"
    },
    "accelerator": "TPU"
  },
  "cells": [
    {
      "cell_type": "markdown",
      "source": [
        "### INIT PACS"
      ],
      "metadata": {
        "id": "hk1VqNfOTyyk"
      }
    },
    {
      "cell_type": "code",
      "source": [
        "! pip install -qU kokoro soundfile pydub\n",
        "! apt-get -qq -y install espeak-ng > /dev/null 2>&1\n",
        "! mkdir -p src-wav wav-mixer\n",
        "\n",
        "\n",
        "source_dir = \"./src-wav\"\n",
        "target_dir = \"./wav-mixer\""
      ],
      "metadata": {
        "id": "Ql3d0AXEFlDF",
        "collapsed": true
      },
      "execution_count": 12,
      "outputs": []
    },
    {
      "cell_type": "markdown",
      "source": [
        "### LOAD LIBS"
      ],
      "metadata": {
        "id": "IAbOnZjRT6cL"
      }
    },
    {
      "cell_type": "code",
      "source": [
        "from kokoro import KPipeline\n",
        "from IPython.display import display, Audio\n",
        "import soundfile as sf\n",
        "import os\n",
        "from pydub import AudioSegment"
      ],
      "metadata": {
        "id": "jAV4vFy8GfVV"
      },
      "execution_count": 13,
      "outputs": []
    },
    {
      "cell_type": "markdown",
      "source": [
        "### GENERATE SPEECH"
      ],
      "metadata": {
        "id": "34a16V--UBWj"
      }
    },
    {
      "cell_type": "code",
      "source": [
        "\n",
        "def generate_speech(text, src_dir, show_samples=False):\n",
        "    try:\n",
        "        pipeline = KPipeline(lang_code='a', repo_id='hexgrad/Kokoro-82M')\n",
        "        generator = pipeline(\n",
        "            text=text,\n",
        "            voice='af_heart',\n",
        "            speed=1,\n",
        "            split_pattern=r'\\n+'\n",
        "        )\n",
        "\n",
        "        os.makedirs(src_dir, exist_ok=True)\n",
        "\n",
        "        for i, (gs, ps, audio) in enumerate(generator):\n",
        "            print(i)\n",
        "            print(gs)\n",
        "            if show_samples:\n",
        "                display(Audio(data=audio, rate=24000, autoplay=i == 0))\n",
        "\n",
        "            file_path = os.path.join(src_dir, f\"{i}.wav\")\n",
        "            sf.write(file_path, audio, 24000)\n",
        "        return True\n",
        "\n",
        "    except Exception as e:\n",
        "        print(f\"Error: {e}\")\n",
        "        return False\n",
        "\n",
        "\n",
        "def wav_mixer_to_mp3(source_path, target_path, output_filename, bitrate=\"320k\"):\n",
        "\n",
        "    try:\n",
        "        wav_files = sorted(\n",
        "            [f for f in os.listdir(source_path) if f.endswith(\".wav\")],\n",
        "            key=lambda x: int(x.split('.')[0])\n",
        "        )\n",
        "        if not wav_files:\n",
        "            raise Exception(\"No WAV files found in the source directory!\")\n",
        "\n",
        "        merged_audio = AudioSegment.from_wav(os.path.join(source_path, wav_files[0]))\n",
        "        for file in wav_files[1:]:\n",
        "            sound = AudioSegment.from_wav(os.path.join(source_path, file))\n",
        "            merged_audio += sound\n",
        "\n",
        "        os.makedirs(target_path, exist_ok=True)\n",
        "\n",
        "        output_path = os.path.join(target_path, output_filename)\n",
        "        merged_audio.export(output_path, format=\"mp3\", bitrate=bitrate)\n",
        "        print(f\"✅ Merged MP3 saved at: {output_path} with {bitrate} quality.\")\n",
        "\n",
        "    except Exception as e:\n",
        "        print(f\"❌ Error: {e}\")"
      ],
      "metadata": {
        "id": "B866ySEtF4U3"
      },
      "execution_count": 4,
      "outputs": []
    },
    {
      "cell_type": "markdown",
      "source": [
        "### SIMPLE TEXT\n"
      ],
      "metadata": {
        "id": "2Yt5L6ibUqAI"
      }
    },
    {
      "cell_type": "code",
      "source": [
        "raw_text = \"\"\" place your text here \"\"\""
      ],
      "metadata": {
        "id": "iyBitbQFUvxR"
      },
      "execution_count": 21,
      "outputs": []
    },
    {
      "cell_type": "markdown",
      "source": [
        "### FILE UPLOAD"
      ],
      "metadata": {
        "id": "fpa9gMFVKtSJ"
      }
    },
    {
      "cell_type": "code",
      "source": [
        "from google.colab import files\n",
        "\n",
        "uploaded = files.upload()\n",
        "filename = list(uploaded.keys())[0]\n",
        "\n",
        "with open(filename, 'r') as file:\n",
        "    raw_text = file.read()\n"
      ],
      "metadata": {
        "id": "pUEJvv2iKDh5"
      },
      "execution_count": null,
      "outputs": []
    },
    {
      "cell_type": "markdown",
      "source": [
        "### GENERATE SPEECH"
      ],
      "metadata": {
        "id": "fkHsy-ZQU3tY"
      }
    },
    {
      "cell_type": "code",
      "source": [
        "k = generate_speech(text=raw_text, src_dir=source_dir, show_samples=True)"
      ],
      "metadata": {
        "collapsed": true,
        "id": "tgWrHvC2O7YH"
      },
      "execution_count": null,
      "outputs": []
    },
    {
      "cell_type": "markdown",
      "source": [
        "### WAV MIXER"
      ],
      "metadata": {
        "id": "JP4rld9tVlqY"
      }
    },
    {
      "cell_type": "code",
      "source": [
        "wav_mixer_to_mp3(source_path=source_dir, target_path=target_dir, output_filename=\"my_audio.mp3\")"
      ],
      "metadata": {
        "id": "c5Y_eH_cVzgq"
      },
      "execution_count": null,
      "outputs": []
    },
    {
      "cell_type": "markdown",
      "source": [
        "### PLAY AND DOWNLOAD MP3"
      ],
      "metadata": {
        "id": "vQHwKuWKM5PN"
      }
    },
    {
      "cell_type": "code",
      "source": [
        "from pydub import AudioSegment\n",
        "from IPython.display import Audio\n",
        "\n",
        "file_path = \"/content/wav-mixer/my_audio.mp3\"\n",
        "\n",
        "audio = AudioSegment.from_file(file_path, format=\"mp3\")\n",
        "samples = audio.get_array_of_samples()\n",
        "\n",
        "Audio(samples, rate=audio.frame_rate)\n"
      ],
      "metadata": {
        "id": "T5JyVOD2LqKy"
      },
      "execution_count": null,
      "outputs": []
    }
  ]
}